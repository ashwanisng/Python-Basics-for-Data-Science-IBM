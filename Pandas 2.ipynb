{
 "cells": [
  {
   "cell_type": "code",
   "execution_count": 5,
   "metadata": {},
   "outputs": [],
   "source": [
    "import pandas as pd"
   ]
  },
  {
   "cell_type": "code",
   "execution_count": 6,
   "metadata": {},
   "outputs": [],
   "source": [
    "XYZ_web = {\"Day\":[1,2,3,4,5,6,7], \"Visitors\":[7000,5000,8745,9856,5554,7894,2103], \"Bounce_rate\":[20,10,36,12,4,50,6]}"
   ]
  },
  {
   "cell_type": "code",
   "execution_count": 8,
   "metadata": {},
   "outputs": [
    {
     "name": "stdout",
     "output_type": "stream",
     "text": [
      "   Day  Visitors  Bounce_rate\n",
      "0    1      7000           20\n",
      "1    2      5000           10\n",
      "2    3      8745           36\n",
      "3    4      9856           12\n",
      "4    5      5554            4\n",
      "5    6      7894           50\n",
      "6    7      2103            6\n"
     ]
    }
   ],
   "source": [
    "df = pd.DataFrame(XYZ_web)\n",
    "print(df)"
   ]
  },
  {
   "cell_type": "code",
   "execution_count": 12,
   "metadata": {},
   "outputs": [
    {
     "name": "stdout",
     "output_type": "stream",
     "text": [
      "   Day  Visitors  Bounce_rate\n",
      "0    1      7000           20\n",
      "1    2      5000           10\n",
      "   Day  Visitors  Bounce_rate\n",
      "5    6      7894           50\n",
      "6    7      2103            6\n"
     ]
    }
   ],
   "source": [
    "# slicing\n",
    "\n",
    "# for starting 2 row only\n",
    "\n",
    "print(df.head(2))\n",
    "\n",
    "# for last 2 row\n",
    "\n",
    "print(df.tail(2))"
   ]
  },
  {
   "cell_type": "code",
   "execution_count": 13,
   "metadata": {},
   "outputs": [],
   "source": [
    "# merging"
   ]
  },
  {
   "cell_type": "code",
   "execution_count": 23,
   "metadata": {},
   "outputs": [
    {
     "name": "stdout",
     "output_type": "stream",
     "text": [
      "   HPI  INT_rate_x  IND_GDP_x  INT_rate_y  IND_GDP_y\n",
      "0   60           1         67           4         23\n"
     ]
    }
   ],
   "source": [
    "df1 = pd.DataFrame({\"HPI\":[90,70,80,60], \"INT_rate\":[5,6,2,1], \"IND_GDP\":[50,90,52,67]}, index= [2000,2001,2002,2003])\n",
    "df2 = pd.DataFrame({\"HPI\":[89,56,52,60], \"INT_rate\":[5,8,2,4], \"IND_GDP\":[89,90,52,23]},index= [2004,2005,2006,2007])\n",
    "# df3 = pd.DataFrame({\"HPI\":[56,21,54,60], \"INT_rate\":[2,6,9,1], \"IND_GDP\":[54,90,51,67]},\n",
    "#       index= [2008,2009,2010,2011])\n",
    "\n",
    "merge = pd.merge(df1,df2, on = \"HPI\")\n",
    "# print(merge)\n",
    "# print(df1)\n",
    "# print(df2)\n",
    "print(merge)"
   ]
  },
  {
   "cell_type": "code",
   "execution_count": 24,
   "metadata": {},
   "outputs": [],
   "source": [
    "# joining"
   ]
  },
  {
   "cell_type": "code",
   "execution_count": 26,
   "metadata": {},
   "outputs": [
    {
     "name": "stdout",
     "output_type": "stream",
     "text": [
      "      INT_rate  IND_GDP  Low_Tier_HPI  Unemployment\n",
      "2000         5       50          50.0          50.0\n",
      "2001         6       90           NaN           NaN\n",
      "2002         2       52          60.0          90.0\n",
      "2003         1       67          70.0          52.0\n"
     ]
    }
   ],
   "source": [
    "df1 = pd.DataFrame({ \"INT_rate\":[5,6,2,1], \"IND_GDP\":[50,90,52,67]}, index= [2000,2001,2002,2003])\n",
    "df2 = pd.DataFrame({\"Low_Tier_HPI\":[50,60,70,80], \"Unemployment\":[50,90,52,67]}, index= [2000,2002,2003,2004])\n",
    "joined = df1.join(df2)\n",
    "print(joined)"
   ]
  },
  {
   "cell_type": "code",
   "execution_count": 27,
   "metadata": {},
   "outputs": [],
   "source": [
    "# changing index and header value"
   ]
  },
  {
   "cell_type": "code",
   "execution_count": 29,
   "metadata": {},
   "outputs": [
    {
     "name": "stdout",
     "output_type": "stream",
     "text": [
      "     Visitors  Bounce_rate\n",
      "Day                       \n",
      "1        7000           20\n",
      "2        5000           10\n",
      "3        8745           36\n",
      "4        9856           12\n",
      "5        5554            4\n",
      "6        7894           50\n",
      "7        2103            6\n"
     ]
    }
   ],
   "source": [
    "df = pd.DataFrame({\"Day\":[1,2,3,4,5,6,7], \"Visitors\":[7000,5000,8745,9856,5554,7894,2103], \"Bounce_rate\":[20,10,36,12,4,50,6]})\n",
    "\n",
    "df.set_index(\"Day\", inplace =True)\n",
    "print(df)"
   ]
  },
  {
   "cell_type": "code",
   "execution_count": 30,
   "metadata": {},
   "outputs": [],
   "source": [
    "# to plot this"
   ]
  },
  {
   "cell_type": "code",
   "execution_count": 32,
   "metadata": {},
   "outputs": [
    {
     "data": {
      "image/png": "[encoded data removed]",
      "text/plain": [
       "<Figure size 432x288 with 1 Axes>"
      ]
     },
     "metadata": {},
     "output_type": "display_data"
    }
   ],
   "source": [
    "import matplotlib.pyplot as plt\n",
    "from matplotlib import style\n",
    "style.use(\"fivethirtyeight\")\n",
    "\n",
    "df = pd.DataFrame({\"Day\":[1,2,3,4,5,6,7], \"Visitors\":[7000,5000,8745,9856,5554,7894,2103], \"Bounce_rate\":[20,10,36,12,4,50,6]})\n",
    "\n",
    "df.set_index(\"Day\", inplace =True)\n",
    "\n",
    "df.plot()\n",
    "plt.show()"
   ]
  },
  {
   "cell_type": "code",
   "execution_count": 36,
   "metadata": {},
   "outputs": [
    {
     "name": "stdout",
     "output_type": "stream",
     "text": [
      "   Day  Users  Bounce_rate\n",
      "0    1   7000           20\n",
      "1    2   5000           10\n",
      "2    3   8745           36\n",
      "3    4   9856           12\n",
      "4    5   5554            4\n",
      "5    6   7894           50\n",
      "6    7   2103            6\n"
     ]
    }
   ],
   "source": [
    "# change the colom header\n",
    "\n",
    "df = pd.DataFrame({\"Day\":[1,2,3,4,5,6,7], \"Visitors\":[7000,5000,8745,9856,5554,7894,2103], \"Bounce_rate\":[20,10,36,12,4,50,6]})\n",
    "\n",
    "df = df.rename(columns = {\"Visitors\":\"Users\"})\n",
    "\n",
    "print(df)\n"
   ]
  },
  {
   "cell_type": "code",
   "execution_count": 37,
   "metadata": {},
   "outputs": [
    {
     "name": "stdout",
     "output_type": "stream",
     "text": [
      "      HPI  INT_rate  IND_GDP\n",
      "2000   90         5       50\n",
      "2001   70         6       90\n",
      "2002   80         2       52\n",
      "2003   60         1       67\n",
      "2004   89         5       89\n",
      "2005   56         8       90\n",
      "2006   52         2       52\n",
      "2007   60         4       23\n"
     ]
    }
   ],
   "source": [
    "# to concate the two dataframe\n",
    "\n",
    "df1 = pd.DataFrame({\"HPI\":[90,70,80,60], \"INT_rate\":[5,6,2,1], \"IND_GDP\":[50,90,52,67]}, index= [2000,2001,2002,2003])\n",
    "df2 = pd.DataFrame({\"HPI\":[89,56,52,60], \"INT_rate\":[5,8,2,4], \"IND_GDP\":[89,90,52,23]},index= [2004,2005,2006,2007])\n",
    "conc = pd.concat([df1,df2])\n",
    "\n",
    "\n",
    "print(conc)"
   ]
  },
  {
   "cell_type": "code",
   "execution_count": 38,
   "metadata": {},
   "outputs": [],
   "source": [
    "# data munging \n",
    "# country = pd.read_csv(\"c/folder, index_col =0\") it means no index present in it\n",
    "# country.to_html('edu.html')\n",
    "\n",
    "# now run the path in browser"
   ]
  },
  {
   "cell_type": "code",
   "execution_count": 42,
   "metadata": {},
   "outputs": [
    {
     "name": "stdout",
     "output_type": "stream",
     "text": [
      "   2000  2001\n",
      "0   NaN   NaN\n",
      "1   NaN   NaN\n",
      "2   NaN   NaN\n"
     ]
    }
   ],
   "source": [
    "df1 = pd.DataFrame({\"HPI\":[90,70,80,60], \"INT_rate\":[5,6,2,1], \"IND_GDP\":[50,90,52,67]}, index= [2000,2001,2002,2003])\n",
    "sd = df.reindex(columns = [2000,2001])\n",
    "ss = df.head(3)\n",
    "print(sd)"
   ]
  },
  {
   "cell_type": "code",
   "execution_count": null,
   "metadata": {},
   "outputs": [],
   "source": []
  }
 ],
 "metadata": {
  "kernelspec": {
   "display_name": "Python 3",
   "language": "python",
   "name": "python3"
  },
  "language_info": {
   "codemirror_mode": {
    "name": "ipython",
    "version": 3
   },
   "file_extension": ".py",
   "mimetype": "text/x-python",
   "name": "python",
   "nbconvert_exporter": "python",
   "pygments_lexer": "ipython3",
   "version": "3.7.4"
  }
 },
 "nbformat": 4,
 "nbformat_minor": 2
}
